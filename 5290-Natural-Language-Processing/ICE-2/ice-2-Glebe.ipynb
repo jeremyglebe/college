{
  "nbformat": 4,
  "nbformat_minor": 2,
  "metadata": {
    "colab": {
      "name": "ICE-2.ipynb",
      "provenance": [],
      "collapsed_sections": []
    },
    "kernelspec": {
      "name": "python3",
      "display_name": "Python 3.9.5 64-bit"
    },
    "language_info": {
      "name": "python",
      "version": "3.9.5",
      "mimetype": "text/x-python",
      "codemirror_mode": {
        "name": "ipython",
        "version": 3
      },
      "pygments_lexer": "ipython3",
      "nbconvert_exporter": "python",
      "file_extension": ".py"
    },
    "interpreter": {
      "hash": "aee8b7b246df8f9039afb4144a1f6fd8d2ca17a180786b69acc140d282b71a49"
    }
  },
  "cells": [
    {
      "cell_type": "markdown",
      "source": [
        "# **ICE-2: Regular Expressions (ANSWERS)**\r\n",
        "## by Jeremy Glebe"
      ],
      "metadata": {
        "id": "h2VS_WlNsjy8"
      }
    },
    {
      "cell_type": "markdown",
      "source": [
        "Python includes a builtin module called `re` which provides regular expression matching operations (Click [here](https://docs.python.org/3/library/re.html) for the official module documentation). Once the module is imported into your code, you can use all of the available capabilities for performing pattern-based matching or searching using regular expressions."
      ],
      "metadata": {
        "id": "nlsTiXHghLtz"
      }
    },
    {
      "cell_type": "code",
      "execution_count": 508,
      "source": [
        "import re\n",
        "\n",
        "def apply_regex(data, pattern):\n",
        "  for text in data:\n",
        "    if re.fullmatch(pattern, text):\n",
        "      print(f\"Test string {text} accepted.\")\n",
        "    else:\n",
        "      print(f\"Test string {text} failed!\")"
      ],
      "outputs": [],
      "metadata": {
        "id": "sPmWaxpPsdad"
      }
    },
    {
      "cell_type": "markdown",
      "source": [
        "Let's write a simple regular expression for matching binary strings."
      ],
      "metadata": {
        "id": "WMOFir3uh-vB"
      }
    },
    {
      "cell_type": "code",
      "execution_count": 509,
      "source": [
        "# find binary strings\n",
        "test_strings = [\"0\", \"1\", \"dog\", \"hello, world\", \"123\", \"00\", \"10101010111\"]\n",
        "binary_pattern = r'[0-1]+'\n",
        "apply_regex(test_strings, binary_pattern)"
      ],
      "outputs": [
        {
          "output_type": "stream",
          "name": "stdout",
          "text": [
            "Test string 0 accepted.\n",
            "Test string 1 accepted.\n",
            "Test string dog failed!\n",
            "Test string hello, world failed!\n",
            "Test string 123 failed!\n",
            "Test string 00 accepted.\n",
            "Test string 10101010111 accepted.\n"
          ]
        }
      ],
      "metadata": {
        "id": "mBajNIsYWxXA"
      }
    },
    {
      "cell_type": "markdown",
      "source": [
        "Now, how about for matching 24-bit hexadecimal codes?"
      ],
      "metadata": {
        "id": "l1CzcvAxiIzj"
      }
    },
    {
      "cell_type": "code",
      "execution_count": 510,
      "source": [
        "# find 24-bit hexadecimal color codes\n",
        "test_strings = [\"#F0F8FF\", \"#FFF\", \"#00FFFFF\", \"#2980BD\", \"#FAEBD7\"]\n",
        "hexcode_pattern = r'\\#[0-9A-F]{4,6}'\n",
        "apply_regex(test_strings, hexcode_pattern)"
      ],
      "outputs": [
        {
          "output_type": "stream",
          "name": "stdout",
          "text": [
            "Test string #F0F8FF accepted.\n",
            "Test string #FFF failed!\n",
            "Test string #00FFFFF failed!\n",
            "Test string #2980BD accepted.\n",
            "Test string #FAEBD7 accepted.\n"
          ]
        }
      ],
      "metadata": {
        "id": "rS_lCpxUWzWw"
      }
    },
    {
      "cell_type": "markdown",
      "source": [
        "#### **Question 1.**\r\n",
        "\r\n",
        "*Identify what types of strings the regular expression in the below code block represents?* "
      ],
      "metadata": {
        "id": "o-JWQ90fYSuX"
      }
    },
    {
      "cell_type": "code",
      "execution_count": 511,
      "source": [
        "# All you need to do is run this code block, analyze the output and answer the associated question.\n",
        "re_pattern = r'(\\([0-9][0-9][0-9]\\)\\s)?[0-9][0-9][0-9]-[0-9][0-9][0-9][0-9]'\n",
        "test_strings = [\"00\", \"999-999-9999\", \"(111) 111-1111\", \"(111)111-1111\", \"989-1830\", \"241/131/103\", \"(182).1903.1021\", \"(101).101.1001\"]\n",
        "apply_regex(test_strings, re_pattern)"
      ],
      "outputs": [
        {
          "output_type": "stream",
          "name": "stdout",
          "text": [
            "Test string 00 failed!\n",
            "Test string 999-999-9999 failed!\n",
            "Test string (111) 111-1111 accepted.\n",
            "Test string (111)111-1111 failed!\n",
            "Test string 989-1830 accepted.\n",
            "Test string 241/131/103 failed!\n",
            "Test string (182).1903.1021 failed!\n",
            "Test string (101).101.1001 failed!\n"
          ]
        }
      ],
      "metadata": {
        "id": "FbtEOfAe763d"
      }
    },
    {
      "cell_type": "markdown",
      "source": [
        "#### **Answer.**\r\n",
        "\r\n",
        "The regular expression accepts phone numbers formatted as such: `(xxx) xxx-xxxx` where the area code in parentheses is optional. Each x represents a digit 0-9 as are appropriate for phone numbers."
      ],
      "metadata": {}
    },
    {
      "cell_type": "markdown",
      "source": [
        "#### **Question 2.**\n",
        "\n",
        "*Modify the regular expression (used in Q1.) to also accept strings that follow the format `xxx-xxx-xxxx` where `x` is a digit between 0 to 9?*"
      ],
      "metadata": {
        "id": "iiTS66MlYlSI"
      }
    },
    {
      "cell_type": "code",
      "execution_count": 512,
      "source": [
        "# Replace the modified regular expression in the code snippet used in Question 1\n",
        "# Add your code below this comment and execute your code\n",
        "re_pattern = r'(\\([0-9][0-9][0-9]\\)\\s|[0-9][0-9][0-9]-)?[0-9][0-9][0-9]-[0-9][0-9][0-9][0-9]'\n",
        "apply_regex(test_strings, re_pattern)\n"
      ],
      "outputs": [
        {
          "output_type": "stream",
          "name": "stdout",
          "text": [
            "Test string 00 failed!\n",
            "Test string 999-999-9999 accepted.\n",
            "Test string (111) 111-1111 accepted.\n",
            "Test string (111)111-1111 failed!\n",
            "Test string 989-1830 accepted.\n",
            "Test string 241/131/103 failed!\n",
            "Test string (182).1903.1021 failed!\n",
            "Test string (101).101.1001 failed!\n"
          ]
        }
      ],
      "metadata": {
        "id": "TjvX9NihaAR8"
      }
    },
    {
      "cell_type": "markdown",
      "source": [
        "#### **Answer.**\r\n",
        "\r\n",
        "I just added to the parentheses containing the optional area code an \"OR\" (indicated by the `|` character) followed by a pattern matching three numbers and a dash. This allows users to optionally have an area code which is either of the format `(xxx) ` OR `xxx-`"
      ],
      "metadata": {}
    },
    {
      "cell_type": "markdown",
      "source": [
        "#### **Question 3.**\n",
        "\n",
        "*Modify the regular expression (used in Q2.) to also accept strings that are of the form `(xxx) xxx-xxxx` and `(xxx)xxx-xxxx` where `x` is a digit between 0 to 9?*"
      ],
      "metadata": {
        "id": "wSJ-89VjY-TI"
      }
    },
    {
      "cell_type": "code",
      "execution_count": 513,
      "source": [
        "# Replace the modified regular expression in the code snippet used in Question 2\n",
        "# Add your code below this comment and execute your code\n",
        "re_pattern = r'(\\([0-9][0-9][0-9]\\)\\s?|[0-9][0-9][0-9]-)?[0-9][0-9][0-9]-[0-9][0-9][0-9][0-9]'\n",
        "apply_regex(test_strings, re_pattern)\n"
      ],
      "outputs": [
        {
          "output_type": "stream",
          "name": "stdout",
          "text": [
            "Test string 00 failed!\n",
            "Test string 999-999-9999 accepted.\n",
            "Test string (111) 111-1111 accepted.\n",
            "Test string (111)111-1111 accepted.\n",
            "Test string 989-1830 accepted.\n",
            "Test string 241/131/103 failed!\n",
            "Test string (182).1903.1021 failed!\n",
            "Test string (101).101.1001 failed!\n"
          ]
        }
      ],
      "metadata": {
        "id": "QG0qg465aMqu"
      }
    },
    {
      "cell_type": "markdown",
      "source": [
        "#### **Answer.**\r\n",
        "\r\n",
        "I added a question mark `?` immediately after the whitespace `\\s` which indicates that we will accept 0 or 1 whitespace characters. This allows the parentheses to exist without a space between."
      ],
      "metadata": {}
    },
    {
      "cell_type": "markdown",
      "source": [
        "#### **Question 4.**\n",
        "\n",
        "*Modify the regular expression (used in Q3.) to accept strings that have the format `(xxx)-xxx-xxxx` and `(xxx).xxx.xxxx` but reject strings that are of the format `(xxx)/xxx.xxxx` where `x` is a digit between 0 to 9?*"
      ],
      "metadata": {
        "id": "VPQF3tOjZW0P"
      }
    },
    {
      "cell_type": "code",
      "execution_count": 514,
      "source": [
        "# Replace the modified regular expression in the code snippet used in Question 3\n",
        "# Add your code below this comment and execute your code\n",
        "re_pattern = r'(\\([0-9][0-9][0-9]\\)(-|.|\\s)?|[0-9][0-9][0-9](-|.))?[0-9][0-9][0-9](-|.)[0-9][0-9][0-9][0-9]'\n",
        "apply_regex(test_strings, re_pattern)\n"
      ],
      "outputs": [
        {
          "output_type": "stream",
          "name": "stdout",
          "text": [
            "Test string 00 failed!\n",
            "Test string 999-999-9999 accepted.\n",
            "Test string (111) 111-1111 accepted.\n",
            "Test string (111)111-1111 accepted.\n",
            "Test string 989-1830 accepted.\n",
            "Test string 241/131/103 failed!\n",
            "Test string (182).1903.1021 failed!\n",
            "Test string (101).101.1001 accepted.\n"
          ]
        }
      ],
      "metadata": {
        "id": "Ox7WciR-aNg3"
      }
    },
    {
      "cell_type": "markdown",
      "source": [
        "#### **Answer.**\n",
        "\n",
        "I changed all my dash separators `-` to be a group of optional separators including dot `(-|.)`. I also changed my whitespace separator `\\s` to include optional dash or dot `(-|.|\\s)`. This allows for different separators (though not the slash `/`) to be used between each group of numbers."
      ],
      "metadata": {}
    },
    {
      "cell_type": "markdown",
      "source": [
        "---"
      ],
      "metadata": {
        "id": "l0rOljUHdmRR"
      }
    },
    {
      "cell_type": "markdown",
      "source": [
        "## **Using regular expressions based pattern matching on real world text**\n",
        "\n",
        "For the purposes of demonstration, here's a dummy paragraph of text. A few observations here:\n",
        "* The text has multiple paragraphs with each paragraph having more than one sentence. \n",
        "* Some of the words are capitalized (first letter is in uppercase followed by lowercase letters). "
      ],
      "metadata": {
        "id": "8_rLt00EaZvB"
      }
    },
    {
      "cell_type": "code",
      "execution_count": 515,
      "source": [
        "text = \"\"\"Here is the First Paragraph and this is the First Sentence. here is the Second Sentence. now is the Third Sentence. this is the Fourth Sentence of the first paragaraph. this paragraph is ending now with a Fifth Sentence.\n",
        "Now, it is the Second Paragraph and its First Sentence. here is the Second Sentence. now is the Third Sentence. this is the Fourth Sentence of the second paragraph. this paragraph is ending now with a Fifth Sentence.\n",
        "Finally, this is the Third Paragraph and is the First Sentence of this paragraph. here is the Second Sentence. now is the Third Sentence. this is the Fourth Sentence of the third paragaraph. this paragraph is ending now with a Fifth Sentence.\n",
        "4th paragraph is not going to be detected by either of the regex patterns below.\n",
        "\"\"\"\n",
        "\n",
        "print(text)"
      ],
      "outputs": [
        {
          "output_type": "stream",
          "name": "stdout",
          "text": [
            "Here is the First Paragraph and this is the First Sentence. here is the Second Sentence. now is the Third Sentence. this is the Fourth Sentence of the first paragaraph. this paragraph is ending now with a Fifth Sentence.\n",
            "Now, it is the Second Paragraph and its First Sentence. here is the Second Sentence. now is the Third Sentence. this is the Fourth Sentence of the second paragraph. this paragraph is ending now with a Fifth Sentence.\n",
            "Finally, this is the Third Paragraph and is the First Sentence of this paragraph. here is the Second Sentence. now is the Third Sentence. this is the Fourth Sentence of the third paragaraph. this paragraph is ending now with a Fifth Sentence.\n",
            "4th paragraph is not going to be detected by either of the regex patterns below.\n",
            "\n"
          ]
        }
      ],
      "metadata": {
        "id": "M6aDPflCCMM1"
      }
    },
    {
      "cell_type": "markdown",
      "source": [
        "The following code block shows a regular expression that matches only those strings that:\n",
        "1. are at the start of a line and\n",
        "2. the string does not start with a number or a whitespace\n",
        "\n",
        "`re.findall()` finds all matches of the pattern in the text under consideration. The output is a list of strings that matched."
      ],
      "metadata": {
        "id": "dCZTjsmadgKZ"
      }
    },
    {
      "cell_type": "code",
      "execution_count": 516,
      "source": [
        "re_pattern1 = r'^[^0-9 ]+'\n",
        "print(re.findall(re_pattern1, text, re.MULTILINE))"
      ],
      "outputs": [
        {
          "output_type": "stream",
          "name": "stdout",
          "text": [
            "['Here', 'Now,', 'Finally,']\n"
          ]
        }
      ],
      "metadata": {
        "id": "R1xFyRSUdgm7"
      }
    },
    {
      "cell_type": "markdown",
      "source": [
        "Further, the regular expression defined below matches two consecutive words that are capitalized."
      ],
      "metadata": {
        "id": "GtCXyrandj-s"
      }
    },
    {
      "cell_type": "code",
      "execution_count": 517,
      "source": [
        "re_pattern2 = r'[A-Z][a-z]+ [A-Z][a-z]+'\n",
        "print(re.findall(re_pattern2, text))"
      ],
      "outputs": [
        {
          "output_type": "stream",
          "name": "stdout",
          "text": [
            "['First Paragraph', 'First Sentence', 'Second Sentence', 'Third Sentence', 'Fourth Sentence', 'Fifth Sentence', 'Second Paragraph', 'First Sentence', 'Second Sentence', 'Third Sentence', 'Fourth Sentence', 'Fifth Sentence', 'Third Paragraph', 'First Sentence', 'Second Sentence', 'Third Sentence', 'Fourth Sentence', 'Fifth Sentence']\n"
          ]
        }
      ],
      "metadata": {
        "id": "d-RhWLyDdjZp"
      }
    },
    {
      "cell_type": "markdown",
      "source": [
        "\n",
        "\n",
        "Following is a text excerpt on \"Inaugural Address\" taken from the website of the [Joint Congressional Committee on Inaugural Ceremonies](https://www.inaugural.senate.gov/inaugural-address/):"
      ],
      "metadata": {
        "id": "88CbasJvagxH"
      }
    },
    {
      "cell_type": "code",
      "execution_count": 518,
      "source": [
        "inau_text=\"\"\"The custom of delivering an address on Inauguration Day started with the very first Inauguration—George Washington’s—on April 30, 1789. After taking his oath of office on the balcony of Federal Hall in New York City, Washington proceeded to the Senate chamber where he read a speech before members of Congress and other dignitaries. His second Inauguration took place in Philadelphia on March 4, 1793, in the Senate chamber of Congress Hall. There, Washington gave the shortest Inaugural address on record—just 135 words —before repeating the oath of office.\n",
        "Every President since Washington has delivered an Inaugural address. While many of the early Presidents read their addresses before taking the oath, current custom dictates that the Chief Justice of the Supreme Court administer the oath first, followed by the President’s speech.\n",
        "William Henry Harrison delivered the longest Inaugural address, at 8,445 words, on March 4, 1841—a bitterly cold, wet day. He died one month later of pneumonia, believed to have been brought on by prolonged exposure to the elements on his Inauguration Day. John Adams’ Inaugural address, which totaled 2,308 words, contained the longest sentence, at 737 words. After Washington’s second Inaugural address, the next shortest was Franklin D. Roosevelt’s fourth address on January 20, 1945, at just 559 words. Roosevelt had chosen to have a simple Inauguration at the White House in light of the nation’s involvement in World War II.\n",
        "In 1921, Warren G. Harding became the first President to take his oath and deliver his Inaugural address through loud speakers. In 1925, Calvin Coolidge’s Inaugural address was the first to be broadcast nationally by radio. And in 1949, Harry S. Truman became the first President to deliver his Inaugural address over television airwaves.\n",
        "Most Presidents use their Inaugural address to present their vision of America and to set forth their goals for the nation. Some of the most eloquent and powerful speeches are still quoted today. In 1865, in the waning days of the Civil War, Abraham Lincoln stated, “With malice toward none, with charity for all, with firmness in the right as God gives us to see the right, let us strive on to finish the work we are in, to bind up the nation’s wounds, to care for him who shall have borne the battle and for his widow and his orphan, to do all which may achieve and cherish a just and lasting peace among ourselves and with all nations.” In 1933, Franklin D. Roosevelt avowed, “we have nothing to fear but fear itself.” And in 1961, John F. Kennedy declared, “And so my fellow Americans: ask not what your country can do for you—ask what you can do for your country.”\n",
        "Today, Presidents deliver their Inaugural address on the West Front of the Capitol, but this has not always been the case. Until Andrew Jackson’s first Inauguration in 1829, most Presidents spoke in either the House or Senate chambers. Jackson became the first President to take his oath of office and deliver his address on the East Front Portico of the U.S. Capitol in 1829. With few exceptions, the next 37 Inaugurations took place there, until 1981, when Ronald Reagan’s Swearing-In Ceremony and Inaugural address occurred on the West Front Terrace of the Capitol. The West Front has been used ever since.\"\"\"\n",
        "\n"
      ],
      "outputs": [],
      "metadata": {
        "id": "XybBR7nvLpR8"
      }
    },
    {
      "cell_type": "markdown",
      "source": [
        "#### **Question 5a.**\n",
        "\n",
        "*Identify all the capitalized words in the \"Inaugural Address\" excerpt and write a regular expression that finds all occurrences of such words in the text. Then, run the Python code snippet to automatically display the matched strings according to the pattern.*.\n",
        "\n",
        "NOTE: You can use the *re.findall()* method as demonstrated in the example before this exercise."
      ],
      "metadata": {
        "id": "ruu4xqGqbbXv"
      }
    },
    {
      "cell_type": "code",
      "execution_count": 519,
      "source": [
        "# Write your code below these comments and execute your code\n",
        "# HINT: You may need to tweak the use of capture groups to NOT capture partial matches\n",
        "# For e.g. 'New York' instead of 'New', 'York')\n",
        "pattern = r'[A-Z][a-z]+(?:\\s[A-Z][a-z]+)*'\n",
        "print(re.findall(pattern, inau_text))\n"
      ],
      "outputs": [
        {
          "output_type": "stream",
          "name": "stdout",
          "text": [
            "['The', 'Inauguration Day', 'Inauguration', 'George Washington', 'April', 'After', 'Federal Hall', 'New York City', 'Washington', 'Senate', 'Congress', 'His', 'Inauguration', 'Philadelphia', 'March', 'Senate', 'Congress Hall', 'There', 'Washington', 'Inaugural', 'Every President', 'Washington', 'Inaugural', 'While', 'Presidents', 'Chief Justice', 'Supreme Court', 'President', 'William Henry Harrison', 'Inaugural', 'March', 'He', 'Inauguration Day', 'John Adams', 'Inaugural', 'After Washington', 'Inaugural', 'Franklin', 'Roosevelt', 'January', 'Roosevelt', 'Inauguration', 'White House', 'World War', 'In', 'Warren', 'Harding', 'President', 'Inaugural', 'In', 'Calvin Coolidge', 'Inaugural', 'And', 'Harry', 'Truman', 'President', 'Inaugural', 'Most Presidents', 'Inaugural', 'America', 'Some', 'In', 'Civil War', 'Abraham Lincoln', 'With', 'God', 'In', 'Franklin', 'Roosevelt', 'And', 'John', 'Kennedy', 'And', 'Americans', 'Today', 'Presidents', 'Inaugural', 'West Front', 'Capitol', 'Until Andrew Jackson', 'Inauguration', 'Presidents', 'House', 'Senate', 'Jackson', 'President', 'East Front Portico', 'Capitol', 'With', 'Inaugurations', 'Ronald Reagan', 'Swearing', 'In Ceremony', 'Inaugural', 'West Front Terrace', 'Capitol', 'The West Front']\n"
          ]
        }
      ],
      "metadata": {
        "id": "RJoeu9M7bxxe"
      }
    },
    {
      "cell_type": "markdown",
      "source": [
        "#### **Answer.**\n",
        "\n",
        "The pattern `[A-Z][a-z]+` represents a single capitalized word. I also want to check for whitespace immediately following, to see if there are more words: `[A-Z][a-z]+\\s`. However, I only care about the whitespace if it is followed by another capitalized word, so I need to combine these together for pattern matching: `[A-Z][a-z]+(?:\\s[A-Z][a-z]+)` (I use `(?:)` because it doesn't create a new group in the results of `re.findall` but still groups them in the expression) And lastly, there may be 0 or more consecutive words, so I just add an asterisk to ensure I have accounted for that: `[A-Z][a-z]+(?:\\s[A-Z][a-z]+)*`\n",
        "\n",
        "There are still a few false positives for multi-word terms such as \"After Washington\" or \"Until Andrew Jackson\", but there would really be no way to filter these out without having some sort of set of stopwords that are not included in the regex. (Which would also result in a very long regex) It would be far more practical to compile a list of these stop words and filter them from the resulting list."
      ],
      "metadata": {}
    },
    {
      "cell_type": "markdown",
      "source": [
        "#### **Question 5b.**\n",
        "\n",
        "*Identify all the dates in the \"Inaugural Address\" excerpt and write a regular expression that finds all occurrences of the dates in the text. Then, run the Python code snippet to automatically display a list of all such dates identified.*\n",
        "\n",
        "NOTE: You can use the *re.findall()* method as demonstrated in the example before this exercise."
      ],
      "metadata": {
        "id": "0mBvooHSb3mF"
      }
    },
    {
      "cell_type": "code",
      "execution_count": 520,
      "source": [
        "# Write your code below these comments and execute your code\n",
        "# HINT: You may need to tweak the use of capture groups to NOT capture partial matches\n",
        "# For e.g. 'April 20, 1945' instead of 'April', '20')\n",
        "pattern = r'[A-Z][a-z]+ [1-3]?[0-9], [0-9]{4}'\n",
        "print(re.findall(pattern, inau_text))\n"
      ],
      "outputs": [
        {
          "output_type": "stream",
          "name": "stdout",
          "text": [
            "['April 30, 1789', 'March 4, 1793', 'March 4, 1841', 'January 20, 1945']\n"
          ]
        }
      ],
      "metadata": {
        "id": "fS_Gf1lkb3vM"
      }
    },
    {
      "cell_type": "markdown",
      "source": [
        "#### **Answer.**\n",
        "\n",
        "This is fairly straightforward, there is a single capitalized word (pattern from previous question) followed by a space: `[A-Z][a-z]+ `. After that, the day of the month. This will be a maximum two digit number where the first digit is optional. Add a comma and a space to prepare for the year and I have: `[A-Z][a-z]+ [1-3]?[0-9], `. Lastly, I just need a four digit number for the year, so I use repeating syntax `{n}`: `[A-Z][a-z]+ [1-3]?[0-9], [0-9]{4}`\n",
        "\n",
        "Note: this pattern only detects dates, not standalone years, which are far more common in the text."
      ],
      "metadata": {}
    },
    {
      "cell_type": "markdown",
      "source": [
        "---"
      ],
      "metadata": {
        "id": "WymTuLF6sj5w"
      }
    }
  ]
}